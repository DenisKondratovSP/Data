{
 "cells": [
  {
   "cell_type": "code",
   "execution_count": 16,
   "id": "98ac68f9",
   "metadata": {},
   "outputs": [],
   "source": [
    "import tkinter as tk\n",
    "\n",
    "\n",
    "\n",
    "def update_stat(player, stat, button_var):\n",
    "    current_value = int(button_var.get())\n",
    "    new_value = current_value + 1\n",
    "    button_var.set(str(new_value))\n",
    "\n",
    "if __name__ == '__main__':\n",
    "    players = [\"Вова\", \"Миша С\", \"Сережа\", \"Леша\", \"Миша В\", \"Леня\", \"Дима\", \"Денис\", \"Саша\"]\n",
    "    stats = [\"Отборы\", \"Удары\", \"Пасы\"]\n",
    "    root = tk.Tk()\n",
    "    root.title(\"Футбольная статистика\")\n",
    "    \n",
    "    for j, stat in enumerate(stats):\n",
    "        label = tk.Label(root, text=stat, padx=10)\n",
    "        label.grid(row=0, column=j+1)\n",
    "\n",
    "    for i, player in enumerate(players):\n",
    "        label = tk.Label(root, text=player, padx=10)\n",
    "        label.grid(row=i+1, column=0)\n",
    "\n",
    "        for j, stat in enumerate(stats):\n",
    "            button_var = tk.StringVar()\n",
    "            button_var.set(\"0\")\n",
    "            button = tk.Button(root,\n",
    "                               textvariable=button_var,\n",
    "                               command=lambda p=player,\n",
    "                               s=stat,\n",
    "                               b=button_var: update_stat(p, s, b))\n",
    "            button.grid(row=i+1, column=j+1)\n",
    "\n",
    "    root.mainloop()\n",
    "\n",
    "\n"
   ]
  },
  {
   "cell_type": "code",
   "execution_count": null,
   "id": "bc559610",
   "metadata": {},
   "outputs": [],
   "source": []
  }
 ],
 "metadata": {
  "kernelspec": {
   "display_name": "Python 3 (ipykernel)",
   "language": "python",
   "name": "python3"
  },
  "language_info": {
   "codemirror_mode": {
    "name": "ipython",
    "version": 3
   },
   "file_extension": ".py",
   "mimetype": "text/x-python",
   "name": "python",
   "nbconvert_exporter": "python",
   "pygments_lexer": "ipython3",
   "version": "3.10.12"
  }
 },
 "nbformat": 4,
 "nbformat_minor": 5
}
